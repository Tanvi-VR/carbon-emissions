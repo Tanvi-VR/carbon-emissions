{
 "cells": [
  {
   "cell_type": "code",
   "execution_count": null,
   "metadata": {},
   "outputs": [],
   "source": []
  }
 ],
 "metadata": {
  "kernelspec": {
   "display_name": "Python 3.10.6 ('venv': venv)",
   "language": "python",
   "name": "python3"
  },
  "language_info": {
   "name": "python",
   "version": "3.10.6"
  },
  "orig_nbformat": 4,
  "vscode": {
   "interpreter": {
    "hash": "955677f6d7fc33b2a56bf1d722bcde7dd8092d340e2b85608084257e838665e4"
   }
  }
 },
 "nbformat": 4,
 "nbformat_minor": 2
}

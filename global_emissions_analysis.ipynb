{
 "cells": [
  {
   "cell_type": "markdown",
   "metadata": {},
   "source": [
    "# Preliminary Data Analysis"
   ]
  },
  {
   "cell_type": "code",
   "execution_count": 3,
   "metadata": {},
   "outputs": [],
   "source": [
    "import pandas as pd\n",
    "import numpy as np\n",
    "import matplotlib.pyplot as plt"
   ]
  },
  {
   "cell_type": "markdown",
   "metadata": {},
   "source": [
    "## Read in Data\n",
    "\n",
    "This dataset from the Climate Watch describes the emissions in tons of CO2 per year per sector per country from 1960 to 2023. The data covers each country in the world (196) and six distinct sectors, including `Cement`, `Coal`, `Gas`, `Gas flaring`, `Oil`, `Total fossil fuels and cement`."
   ]
  },
  {
   "cell_type": "code",
   "execution_count": 4,
   "metadata": {},
   "outputs": [
    {
     "data": {
      "text/html": [
       "<div>\n",
       "<style scoped>\n",
       "    .dataframe tbody tr th:only-of-type {\n",
       "        vertical-align: middle;\n",
       "    }\n",
       "\n",
       "    .dataframe tbody tr th {\n",
       "        vertical-align: top;\n",
       "    }\n",
       "\n",
       "    .dataframe thead th {\n",
       "        text-align: right;\n",
       "    }\n",
       "</style>\n",
       "<table border=\"1\" class=\"dataframe\">\n",
       "  <thead>\n",
       "    <tr style=\"text-align: right;\">\n",
       "      <th></th>\n",
       "      <th>Country name</th>\n",
       "      <th>Country</th>\n",
       "      <th>Sector</th>\n",
       "      <th>Source</th>\n",
       "      <th>Gas</th>\n",
       "      <th>1960</th>\n",
       "      <th>1961</th>\n",
       "      <th>1962</th>\n",
       "      <th>1963</th>\n",
       "      <th>1964</th>\n",
       "      <th>...</th>\n",
       "      <th>2014</th>\n",
       "      <th>2015</th>\n",
       "      <th>2016</th>\n",
       "      <th>2017</th>\n",
       "      <th>2018</th>\n",
       "      <th>2019</th>\n",
       "      <th>2020</th>\n",
       "      <th>2021</th>\n",
       "      <th>2022</th>\n",
       "      <th>2023</th>\n",
       "    </tr>\n",
       "  </thead>\n",
       "  <tbody>\n",
       "    <tr>\n",
       "      <th>0</th>\n",
       "      <td>Afghanistan</td>\n",
       "      <td>AFG</td>\n",
       "      <td>Cement</td>\n",
       "      <td>GCP</td>\n",
       "      <td>CO2</td>\n",
       "      <td>0.018012</td>\n",
       "      <td>0.021806</td>\n",
       "      <td>0.029074</td>\n",
       "      <td>0.05088</td>\n",
       "      <td>0.061783</td>\n",
       "      <td>...</td>\n",
       "      <td>0.028644</td>\n",
       "      <td>0.041189</td>\n",
       "      <td>0.076126</td>\n",
       "      <td>0.044785</td>\n",
       "      <td>0.05688</td>\n",
       "      <td>0.038329</td>\n",
       "      <td>0.060674</td>\n",
       "      <td>0.016345</td>\n",
       "      <td>0.016345</td>\n",
       "      <td>0.016345</td>\n",
       "    </tr>\n",
       "    <tr>\n",
       "      <th>1</th>\n",
       "      <td>Afghanistan</td>\n",
       "      <td>AFG</td>\n",
       "      <td>Coal</td>\n",
       "      <td>GCP</td>\n",
       "      <td>CO2</td>\n",
       "      <td>0.127120</td>\n",
       "      <td>0.175870</td>\n",
       "      <td>0.296780</td>\n",
       "      <td>0.26381</td>\n",
       "      <td>0.300450</td>\n",
       "      <td>...</td>\n",
       "      <td>3.621500</td>\n",
       "      <td>2.722400</td>\n",
       "      <td>2.717600</td>\n",
       "      <td>3.257300</td>\n",
       "      <td>3.63340</td>\n",
       "      <td>3.700600</td>\n",
       "      <td>4.116000</td>\n",
       "      <td>3.396500</td>\n",
       "      <td>3.531300</td>\n",
       "      <td>3.843100</td>\n",
       "    </tr>\n",
       "    <tr>\n",
       "      <th>2</th>\n",
       "      <td>Afghanistan</td>\n",
       "      <td>AFG</td>\n",
       "      <td>Gas</td>\n",
       "      <td>GCP</td>\n",
       "      <td>CO2</td>\n",
       "      <td>0.000000</td>\n",
       "      <td>0.000000</td>\n",
       "      <td>0.000000</td>\n",
       "      <td>0.00000</td>\n",
       "      <td>0.000000</td>\n",
       "      <td>...</td>\n",
       "      <td>0.271250</td>\n",
       "      <td>0.282130</td>\n",
       "      <td>0.318640</td>\n",
       "      <td>0.300450</td>\n",
       "      <td>0.29302</td>\n",
       "      <td>0.245490</td>\n",
       "      <td>0.153940</td>\n",
       "      <td>0.157550</td>\n",
       "      <td>0.148280</td>\n",
       "      <td>0.149710</td>\n",
       "    </tr>\n",
       "    <tr>\n",
       "      <th>3</th>\n",
       "      <td>Afghanistan</td>\n",
       "      <td>AFG</td>\n",
       "      <td>Gas flaring</td>\n",
       "      <td>GCP</td>\n",
       "      <td>CO2</td>\n",
       "      <td>NaN</td>\n",
       "      <td>NaN</td>\n",
       "      <td>NaN</td>\n",
       "      <td>NaN</td>\n",
       "      <td>NaN</td>\n",
       "      <td>...</td>\n",
       "      <td>NaN</td>\n",
       "      <td>NaN</td>\n",
       "      <td>NaN</td>\n",
       "      <td>NaN</td>\n",
       "      <td>NaN</td>\n",
       "      <td>NaN</td>\n",
       "      <td>NaN</td>\n",
       "      <td>NaN</td>\n",
       "      <td>NaN</td>\n",
       "      <td>NaN</td>\n",
       "    </tr>\n",
       "    <tr>\n",
       "      <th>4</th>\n",
       "      <td>Afghanistan</td>\n",
       "      <td>AFG</td>\n",
       "      <td>Oil</td>\n",
       "      <td>GCP</td>\n",
       "      <td>CO2</td>\n",
       "      <td>0.268760</td>\n",
       "      <td>0.293120</td>\n",
       "      <td>0.362740</td>\n",
       "      <td>0.39205</td>\n",
       "      <td>0.476320</td>\n",
       "      <td>...</td>\n",
       "      <td>5.164700</td>\n",
       "      <td>6.624500</td>\n",
       "      <td>5.794100</td>\n",
       "      <td>6.074900</td>\n",
       "      <td>6.61860</td>\n",
       "      <td>6.840700</td>\n",
       "      <td>7.275300</td>\n",
       "      <td>6.701500</td>\n",
       "      <td>6.861900</td>\n",
       "      <td>7.011100</td>\n",
       "    </tr>\n",
       "  </tbody>\n",
       "</table>\n",
       "<p>5 rows × 69 columns</p>\n",
       "</div>"
      ],
      "text/plain": [
       "  Country name Country       Sector Source  Gas      1960      1961      1962  \\\n",
       "0  Afghanistan     AFG       Cement    GCP  CO2  0.018012  0.021806  0.029074   \n",
       "1  Afghanistan     AFG         Coal    GCP  CO2  0.127120  0.175870  0.296780   \n",
       "2  Afghanistan     AFG          Gas    GCP  CO2  0.000000  0.000000  0.000000   \n",
       "3  Afghanistan     AFG  Gas flaring    GCP  CO2       NaN       NaN       NaN   \n",
       "4  Afghanistan     AFG          Oil    GCP  CO2  0.268760  0.293120  0.362740   \n",
       "\n",
       "      1963      1964  ...      2014      2015      2016      2017     2018  \\\n",
       "0  0.05088  0.061783  ...  0.028644  0.041189  0.076126  0.044785  0.05688   \n",
       "1  0.26381  0.300450  ...  3.621500  2.722400  2.717600  3.257300  3.63340   \n",
       "2  0.00000  0.000000  ...  0.271250  0.282130  0.318640  0.300450  0.29302   \n",
       "3      NaN       NaN  ...       NaN       NaN       NaN       NaN      NaN   \n",
       "4  0.39205  0.476320  ...  5.164700  6.624500  5.794100  6.074900  6.61860   \n",
       "\n",
       "       2019      2020      2021      2022      2023  \n",
       "0  0.038329  0.060674  0.016345  0.016345  0.016345  \n",
       "1  3.700600  4.116000  3.396500  3.531300  3.843100  \n",
       "2  0.245490  0.153940  0.157550  0.148280  0.149710  \n",
       "3       NaN       NaN       NaN       NaN       NaN  \n",
       "4  6.840700  7.275300  6.701500  6.861900  7.011100  \n",
       "\n",
       "[5 rows x 69 columns]"
      ]
     },
     "execution_count": 4,
     "metadata": {},
     "output_type": "execute_result"
    }
   ],
   "source": [
    "climate_watch_GCP = pd.read_csv(\"ClimateWatch_HistoricalEmissions/CW_HistoricalEmissions_GCP.csv\")\n",
    "climate_watch_GCP.head()"
   ]
  },
  {
   "cell_type": "markdown",
   "metadata": {},
   "source": [
    "## Data Cleaning"
   ]
  },
  {
   "cell_type": "code",
   "execution_count": 17,
   "metadata": {},
   "outputs": [
    {
     "data": {
      "text/plain": [
       "(1013, 69)"
      ]
     },
     "execution_count": 17,
     "metadata": {},
     "output_type": "execute_result"
    }
   ],
   "source": [
    "climate_watch_GCP.shape"
   ]
  },
  {
   "cell_type": "code",
   "execution_count": 7,
   "metadata": {},
   "outputs": [
    {
     "data": {
      "text/plain": [
       "Index(['Country name', 'Country', 'Sector', 'Source', 'Gas', '1960', '1961',\n",
       "       '1962', '1963', '1964', '1965', '1966', '1967', '1968', '1969', '1970',\n",
       "       '1971', '1972', '1973', '1974', '1975', '1976', '1977', '1978', '1979',\n",
       "       '1980', '1981', '1982', '1983', '1984', '1985', '1986', '1987', '1988',\n",
       "       '1989', '1990', '1991', '1992', '1993', '1994', '1995', '1996', '1997',\n",
       "       '1998', '1999', '2000', '2001', '2002', '2003', '2004', '2005', '2006',\n",
       "       '2007', '2008', '2009', '2010', '2011', '2012', '2013', '2014', '2015',\n",
       "       '2016', '2017', '2018', '2019', '2020', '2021', '2022', '2023'],\n",
       "      dtype='object')"
      ]
     },
     "execution_count": 7,
     "metadata": {},
     "output_type": "execute_result"
    }
   ],
   "source": [
    "# List of columns\n",
    "climate_watch_GCP.columns"
   ]
  },
  {
   "cell_type": "code",
   "execution_count": 25,
   "metadata": {},
   "outputs": [
    {
     "name": "stdout",
     "output_type": "stream",
     "text": [
      "\n",
      "Country name:\n",
      "  Number of unique values: 196\n",
      "\n",
      "Sector:\n",
      "  Number of unique values: 6\n",
      "\n",
      "Source:\n",
      "  Number of unique values: 1\n",
      "\n",
      "Gas:\n",
      "  Number of unique values: 1\n"
     ]
    }
   ],
   "source": [
    "# Unique row values (cols `Country name`, `Sector`, `Source`, `Gas`)\n",
    "\n",
    "def print_unique_values(df):\n",
    "    columns = ['Country name', 'Sector', 'Source', 'Gas']\n",
    "\n",
    "    for col in columns:\n",
    "        if col in df.columns:\n",
    "            unique_vals = df[col].unique()\n",
    "            print(f\"\\n{col}:\")\n",
    "            print(f\"  Number of unique values: {len(unique_vals)}\")\n",
    "            # print(f\"  Values: {unique_vals}\")\n",
    "        else:\n",
    "            print(f\"\\n{col}: Column not found in dataframe\")\n",
    "\n",
    "print_unique_values(climate_watch_GCP)"
   ]
  },
  {
   "cell_type": "code",
   "execution_count": 26,
   "metadata": {},
   "outputs": [
    {
     "data": {
      "text/plain": [
       "array(['Cement', 'Coal', 'Gas', 'Gas flaring', 'Oil',\n",
       "       'Total fossil fuels and cement'], dtype=object)"
      ]
     },
     "execution_count": 26,
     "metadata": {},
     "output_type": "execute_result"
    }
   ],
   "source": [
    "# Unique `Sector` values\n",
    "climate_watch_GCP['Sector'].unique()"
   ]
  },
  {
   "cell_type": "code",
   "execution_count": 19,
   "metadata": {},
   "outputs": [
    {
     "data": {
      "text/plain": [
       "1960            0.227048\n",
       "1962            0.224087\n",
       "1961            0.222113\n",
       "1963            0.220138\n",
       "1964            0.213228\n",
       "                  ...   \n",
       "Country         0.000000\n",
       "Gas             0.000000\n",
       "Source          0.000000\n",
       "Sector          0.000000\n",
       "Country name    0.000000\n",
       "Length: 69, dtype: float64"
      ]
     },
     "execution_count": 19,
     "metadata": {},
     "output_type": "execute_result"
    }
   ],
   "source": [
    "# Proportion of NaN column values\n",
    "\n",
    "nan_cols = climate_watch_GCP.isna().sum() / len(climate_watch_GCP)\n",
    "nan_cols.sort_values(ascending = False)"
   ]
  },
  {
   "cell_type": "code",
   "execution_count": 21,
   "metadata": {},
   "outputs": [
    {
     "data": {
      "text/plain": [
       "780     0.913043\n",
       "120     0.913043\n",
       "152     0.913043\n",
       "718     0.898551\n",
       "288     0.898551\n",
       "          ...   \n",
       "405     0.000000\n",
       "406     0.000000\n",
       "407     0.000000\n",
       "408     0.000000\n",
       "1012    0.000000\n",
       "Length: 1013, dtype: float64"
      ]
     },
     "execution_count": 21,
     "metadata": {},
     "output_type": "execute_result"
    }
   ],
   "source": [
    "# Proportion of NaN row values\n",
    "\n",
    "nan_rows = climate_watch_GCP.isna().sum(axis = 1) / len(climate_watch_GCP.columns)\n",
    "nan_rows.sort_values(ascending = False)"
   ]
  },
  {
   "cell_type": "markdown",
   "metadata": {},
   "source": [
    "**Brief note before proceeding**\n",
    "\n",
    "Before cleaning the data, it is important to understand what type of data is missing. Given the granularity of this dataset, contextualizing why certain rows are missing more data than others and can provide key information into the types of emissions intensive activities in different geographies, thus aiding in the future mapping of effective policy instruments per region. "
   ]
  },
  {
   "cell_type": "markdown",
   "metadata": {},
   "source": []
  }
 ],
 "metadata": {
  "kernelspec": {
   "display_name": "Python 3.10.6 ('venv': venv)",
   "language": "python",
   "name": "python3"
  },
  "language_info": {
   "codemirror_mode": {
    "name": "ipython",
    "version": 3
   },
   "file_extension": ".py",
   "mimetype": "text/x-python",
   "name": "python",
   "nbconvert_exporter": "python",
   "pygments_lexer": "ipython3",
   "version": "3.10.6"
  },
  "orig_nbformat": 4,
  "vscode": {
   "interpreter": {
    "hash": "955677f6d7fc33b2a56bf1d722bcde7dd8092d340e2b85608084257e838665e4"
   }
  }
 },
 "nbformat": 4,
 "nbformat_minor": 2
}
